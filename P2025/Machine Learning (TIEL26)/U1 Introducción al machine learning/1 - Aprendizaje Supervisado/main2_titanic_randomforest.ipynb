{
  "cells": [
    {
      "cell_type": "markdown",
      "metadata": {},
      "source": [
        "# Aprendizaje Supervisado - Titanic con Random Forest\n",
        "\n",
        "Este notebook muestra un flujo básico de **Machine Learning supervisado**:\n",
        "1. Cargar datos (train y test).\n",
        "2. Preprocesar (convertir variables categóricas y rellenar valores faltantes).\n",
        "3. Entrenar un modelo de clasificación (Random Forest).\n",
        "4. Generar predicciones para Kaggle."
      ]
    },
    {
      "cell_type": "code",
      "execution_count": null,
      "metadata": {},
      "outputs": [],
      "source": [
        "# --- 0. Importar librerías ---\n",
        "import pandas as pd\n",
        "from sklearn.ensemble import RandomForestClassifier\n",
        "from tqdm import tqdm\n",
        "\n",
        "# Habilitamos barra de progreso en operaciones pandas\n",
        "tqdm.pandas()"
      ]
    },
    {
      "cell_type": "markdown",
      "metadata": {},
      "source": [
        "## 1. Cargar los datos"
      ]
    },
    {
      "cell_type": "code",
      "execution_count": null,
      "metadata": {},
      "outputs": [],
      "source": [
        "print(\"📂 Leyendo archivos CSV...\")\n",
        "\n",
        "train = pd.read_csv(\"titanic/train.csv\")\n",
        "test = pd.read_csv(\"titanic/test.csv\")\n",
        "\n",
        "print(\"✅ Archivos cargados\")\n",
        "train.head()"
      ]
    },
    {
      "cell_type": "markdown",
      "metadata": {},
      "source": [
        "## 2. Preprocesamiento de datos\n",
        "\n",
        "- Convertimos `Sex` en valores numéricos (`male=0`, `female=1`).\n",
        "- Rellenamos los valores faltantes de `Age` con la mediana."
      ]
    },
    {
      "cell_type": "code",
      "execution_count": null,
      "metadata": {},
      "outputs": [],
      "source": [
        "print(\"🔄 Preprocesando datos...\")\n",
        "\n",
        "# Mapear sexo\n",
        "train['Sex'] = train['Sex'].map({'male': 0, 'female': 1})\n",
        "test['Sex'] = test['Sex'].map({'male': 0, 'female': 1})\n",
        "\n",
        "# Rellenar edad con la mediana del train\n",
        "median_age = train['Age'].median()\n",
        "train['Age'] = train['Age'].fillna(median_age)\n",
        "test['Age'] = test['Age'].fillna(median_age)\n",
        "\n",
        "print(\"✅ Preprocesamiento completado\")\n",
        "train[['Pclass','Sex','Age','Survived']].head()"
      ]
    },
    {
      "cell_type": "markdown",
      "metadata": {},
      "source": [
        "## 3. Entrenamiento del modelo"
      ]
    },
    {
      "cell_type": "code",
      "execution_count": null,
      "metadata": {},
      "outputs": [],
      "source": [
        "X = train[['Pclass', 'Sex', 'Age']]\n",
        "y = train['Survived']\n",
        "\n",
        "print(\"🤖 Entrenando modelo...\")\n",
        "clf = RandomForestClassifier(n_estimators=100, verbose=1, n_jobs=-1, random_state=42)\n",
        "clf.fit(X, y)\n",
        "\n",
        "print(\"✅ Modelo entrenado\")"
      ]
    },
    {
      "cell_type": "markdown",
      "metadata": {},
      "source": [
        "## 4. Generar predicciones"
      ]
    },
    {
      "cell_type": "code",
      "execution_count": null,
      "metadata": {},
      "outputs": [],
      "source": [
        "print(\"📊 Generando predicciones...\")\n",
        "\n",
        "pred = clf.predict(test[['Pclass', 'Sex', 'Age']])\n",
        "\n",
        "output = pd.DataFrame({\n",
        "    'PassengerId': test.PassengerId,\n",
        "    'Survived': pred\n",
        "})\n",
        "\n",
        "output.to_csv('submission.csv', index=False)\n",
        "print(\"💾 Archivo 'submission.csv' guardado correctamente\")\n",
        "output.head()"
      ]
    },
    {
      "cell_type": "markdown",
      "metadata": {},
      "source": [
        "## ✅ Conclusión\n",
        "En este notebook:\n",
        "- Construimos un pipeline de **Machine Learning supervisado**.\n",
        "- Usamos **Random Forest** para predecir la supervivencia en el Titanic.\n",
        "- Generamos un archivo `submission.csv` compatible con Kaggle.\n",
        "\n",
        "Este flujo puede extenderse agregando más **features** (Fare, SibSp, Embarked, etc.) o probando otros algoritmos de ML."
      ]
    }
  ],
  "metadata": {
    "kernelspec": {
      "display_name": "Python 3",
      "language": "python",
      "name": "python3"
    },
    "language_info": {
      "name": "python",
      "version": "3.10"
    }
  },
  "nbformat": 4,
  "nbformat_minor": 5
}
