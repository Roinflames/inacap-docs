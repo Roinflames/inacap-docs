{
 "cells": [
  {
   "cell_type": "markdown",
   "id": "cf8d8904",
   "metadata": {},
   "source": [
    "\n",
    "# 📊 Aprendizaje No Supervisado con K-Means\n",
    "**INACAP**\n",
    "\n",
    "En este cuaderno trabajaremos un ejemplo práctico de **aprendizaje no supervisado** usando el algoritmo **K-Means**.  \n",
    "\n",
    "El flujo será:\n",
    "1. Cargar datos.\n",
    "2. Preprocesar (escalado con StandardScaler).\n",
    "3. Entrenar el modelo K-Means.\n",
    "4. Evaluar con métricas (Inercia y Silhouette).\n",
    "5. Visualizar los clusters con PCA.\n",
    "6. Exportar resultados en un CSV.\n"
   ]
  },
  {
   "cell_type": "code",
   "execution_count": null,
   "id": "012033fb",
   "metadata": {},
   "outputs": [],
   "source": [
    "\n",
    "import pandas as pd\n",
    "from sklearn.preprocessing import StandardScaler\n",
    "from sklearn.cluster import KMeans\n",
    "from sklearn.metrics import silhouette_score\n",
    "from sklearn.decomposition import PCA\n",
    "import numpy as np\n",
    "import seaborn as sns\n",
    "import matplotlib.pyplot as plt\n"
   ]
  },
  {
   "cell_type": "markdown",
   "id": "ff26e95e",
   "metadata": {},
   "source": [
    "## 1️⃣ Cargar datos"
   ]
  },
  {
   "cell_type": "code",
   "execution_count": null,
   "id": "633ea506",
   "metadata": {},
   "outputs": [],
   "source": [
    "\n",
    "df = pd.read_csv(\"customer_segmentation.csv\")\n",
    "df.head()\n"
   ]
  },
  {
   "cell_type": "markdown",
   "id": "00276e0d",
   "metadata": {},
   "source": [
    "## 2️⃣ Preprocesar datos (escalado)"
   ]
  },
  {
   "cell_type": "code",
   "execution_count": null,
   "id": "31de438e",
   "metadata": {},
   "outputs": [],
   "source": [
    "\n",
    "features = [\"purchase_frequency\", \"average_purchase\", \"loyalty_points\", \"months_active\"]\n",
    "\n",
    "X = df[features].values\n",
    "\n",
    "scaler = StandardScaler()\n",
    "X_scaled = scaler.fit_transform(X)\n"
   ]
  },
  {
   "cell_type": "markdown",
   "id": "d24c9c79",
   "metadata": {},
   "source": [
    "## 3️⃣ Entrenar modelo K-Means"
   ]
  },
  {
   "cell_type": "code",
   "execution_count": null,
   "id": "9d6ce5ac",
   "metadata": {},
   "outputs": [],
   "source": [
    "\n",
    "k = 3\n",
    "kmeans = KMeans(n_clusters=k, random_state=42)\n",
    "labels = kmeans.fit_predict(X_scaled)\n"
   ]
  },
  {
   "cell_type": "markdown",
   "id": "1beea738",
   "metadata": {},
   "source": [
    "## 4️⃣ Evaluar modelo"
   ]
  },
  {
   "cell_type": "code",
   "execution_count": null,
   "id": "7deec3f2",
   "metadata": {},
   "outputs": [],
   "source": [
    "\n",
    "inertia = kmeans.inertia_\n",
    "sil_score = silhouette_score(X_scaled, labels)\n",
    "sizes = np.bincount(labels)\n",
    "centroids = kmeans.cluster_centers_\n",
    "\n",
    "print(f\"Inercia: {inertia:.2f}\")\n",
    "print(f\"Silhouette Score: {sil_score:.2f}\")\n",
    "print(\"Tamaño de clusters:\", sizes)\n"
   ]
  },
  {
   "cell_type": "markdown",
   "id": "778caf1a",
   "metadata": {},
   "source": [
    "## 5️⃣ Visualización con PCA"
   ]
  },
  {
   "cell_type": "code",
   "execution_count": null,
   "id": "0ec95d07",
   "metadata": {},
   "outputs": [],
   "source": [
    "\n",
    "pca = PCA(n_components=2)\n",
    "X_pca = pca.fit_transform(X_scaled)\n",
    "centroids_pca = pca.transform(centroids)\n",
    "\n",
    "plt.figure(figsize=(8, 6))\n",
    "sns.scatterplot(x=X_pca[:, 0], y=X_pca[:, 1], hue=labels, palette=\"Set2\", s=60, alpha=0.8)\n",
    "plt.scatter(centroids_pca[:, 0], centroids_pca[:, 1], c=\"red\", marker=\"X\", s=200, label=\"Centroides\")\n",
    "plt.title(f\"K-means Clustering (k={k})\\nSilhouette={sil_score:.2f} | Inertia={inertia:.2f}\")\n",
    "plt.xlabel(\"Componente Principal 1\")\n",
    "plt.ylabel(\"Componente Principal 2\")\n",
    "plt.legend()\n",
    "plt.show()\n"
   ]
  },
  {
   "cell_type": "markdown",
   "id": "ebe683bb",
   "metadata": {},
   "source": [
    "## 6️⃣ Exportar resultados a CSV"
   ]
  },
  {
   "cell_type": "code",
   "execution_count": null,
   "id": "403e3c99",
   "metadata": {},
   "outputs": [],
   "source": [
    "\n",
    "rows = []\n",
    "for i in range(k):\n",
    "    for j, feature in enumerate(features):\n",
    "        rows.append([f\"cluster{i}_center_{feature}\", round(centroids[i, j], 2)])\n",
    "    rows.append([f\"cluster{i}_size\", float(sizes[i])])\n",
    "\n",
    "rows.append([\"inertia\", round(inertia, 2)])\n",
    "rows.append([\"silhouette_score\", round(sil_score, 2)])\n",
    "\n",
    "df_out = pd.DataFrame(rows, columns=[\"ID\", \"value\"])\n",
    "df_out.to_csv(\"submission.csv\", index=False)\n",
    "print(\"✅ Archivo 'submission.csv' generado con éxito.\")\n"
   ]
  }
 ],
 "metadata": {
  "language_info": {
   "name": "python"
  }
 },
 "nbformat": 4,
 "nbformat_minor": 5
}
