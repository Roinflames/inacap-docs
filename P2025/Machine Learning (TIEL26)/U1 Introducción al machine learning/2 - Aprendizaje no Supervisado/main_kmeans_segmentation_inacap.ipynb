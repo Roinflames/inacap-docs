{
  "cells": [
    {
      "cell_type": "markdown",
      "metadata": {},
      "source": [
        "# Segmentación de Clientes con KMeans\n",
        "\n",
        "Este notebook está dirigido a estudiantes de **INACAP** y busca explicar paso a paso cómo aplicar **clustering** utilizando el algoritmo **KMeans**.\n",
        "\n",
        "## Objetivos de Aprendizaje\n",
        "- Comprender el preprocesamiento de datos para algoritmos de *machine learning*.\n",
        "- Aplicar el algoritmo **KMeans** para segmentación de clientes.\n",
        "- Evaluar los resultados con métricas como **Inercia** y **Silhouette Score**.\n",
        "- Exportar resultados para su análisis."
      ]
    },
    {
      "cell_type": "code",
      "execution_count": null,
      "metadata": {},
      "outputs": [],
      "source": [
        "import pandas as pd\n",
        "import numpy as np\n",
        "from sklearn.preprocessing import StandardScaler\n",
        "from sklearn.cluster import KMeans\n",
        "from sklearn.metrics import silhouette_score\n",
        "import os"
      ]
    },
    {
      "cell_type": "markdown",
      "metadata": {},
      "source": [
        "## Paso 1: Cargar los datos"
      ]
    },
    {
      "cell_type": "code",
      "execution_count": null,
      "metadata": {},
      "outputs": [],
      "source": [
        "# Definimos las constantes\n",
        "DATA_FILE_PATH = \"customer_segmentation.csv\"  # archivo de entrada\n",
        "SUBMISSION_FILE_PATH = \"submission.csv\"       # archivo de salida\n",
        "FEATURES = [\"purchase_frequency\", \"average_purchase\", \"loyalty_points\", \"months_active\"]\n",
        "\n",
        "def load_data(path):\n",
        "    print(\"Paso 1: Cargando datos...\")\n",
        "    return pd.read_csv(path)\n",
        "\n",
        "df = load_data(DATA_FILE_PATH)\n",
        "df.head()"
      ]
    },
    {
      "cell_type": "markdown",
      "metadata": {},
      "source": [
        "## Paso 2: Preprocesamiento de datos\n",
        "Se escalan las variables para que todas tengan la misma importancia en el modelo."
      ]
    },
    {
      "cell_type": "code",
      "execution_count": null,
      "metadata": {},
      "outputs": [],
      "source": [
        "def preprocess_data(df):\n",
        "    print(\"Paso 2: Escalando datos...\")\n",
        "    X = df[FEATURES].values\n",
        "    scaler = StandardScaler()\n",
        "    return scaler.fit_transform(X)\n",
        "\n",
        "X_scaled = preprocess_data(df)\n",
        "X_scaled[:5]"
      ]
    },
    {
      "cell_type": "markdown",
      "metadata": {},
      "source": [
        "## Paso 3: Entrenamiento con KMeans"
      ]
    },
    {
      "cell_type": "code",
      "execution_count": null,
      "metadata": {},
      "outputs": [],
      "source": [
        "def train_kmeans(X, k=3):\n",
        "    print(f\"Paso 3: Entrenando KMeans con k={k}...\")\n",
        "    kmeans = KMeans(n_clusters=k, random_state=42)\n",
        "    labels = kmeans.fit_predict(X)\n",
        "    return kmeans, labels\n",
        "\n",
        "kmeans, labels = train_kmeans(X_scaled, k=3)\n",
        "labels[:10]"
      ]
    },
    {
      "cell_type": "markdown",
      "metadata": {},
      "source": [
        "## Paso 4: Evaluación del modelo\n",
        "Se utilizan dos métricas:\n",
        "- **Inercia**: mide la cohesión interna de los clusters.\n",
        "- **Silhouette Score**: mide qué tan bien separados están los clusters."
      ]
    },
    {
      "cell_type": "code",
      "execution_count": null,
      "metadata": {},
      "outputs": [],
      "source": [
        "def evaluate_model(X, labels, kmeans):\n",
        "    print(\"Paso 4: Evaluando modelo...\")\n",
        "    inertia = kmeans.inertia_\n",
        "    sil_score = silhouette_score(X, labels) if len(set(labels)) > 1 else None\n",
        "    return inertia, sil_score\n",
        "\n",
        "inertia, sil_score = evaluate_model(X_scaled, labels, kmeans)\n",
        "inertia, sil_score"
      ]
    },
    {
      "cell_type": "markdown",
      "metadata": {},
      "source": [
        "## Paso 5: Exportar resultados\n",
        "Se generan los resultados en un archivo `.csv` para compartir o analizar más adelante."
      ]
    },
    {
      "cell_type": "code",
      "execution_count": null,
      "metadata": {},
      "outputs": [],
      "source": [
        "def export_results(kmeans, labels, inertia, sil_score, path):\n",
        "    print(\"Paso 5: Exportando resultados...\")\n",
        "    rows = []\n",
        "    sizes = np.bincount(labels)\n",
        "    for i, centroid in enumerate(kmeans.cluster_centers_):\n",
        "        for j, val in enumerate(centroid):\n",
        "            rows.append([f\"cluster{i}_center_{FEATURES[j]}\", round(val, 2)])\n",
        "        rows.append([f\"cluster{i}_size\", float(sizes[i])])\n",
        "\n",
        "    rows.append([\"inertia\", round(inertia, 2)])\n",
        "    if sil_score is not None:\n",
        "        rows.append([\"silhouette_score\", round(sil_score, 2)])\n",
        "\n",
        "    df_out = pd.DataFrame(rows, columns=[\"ID\", \"value\"])\n",
        "    df_out.to_csv(path, index=False)\n",
        "    print(f\"✅ Archivo '{path}' generado con éxito.\")\n",
        "\n",
        "export_results(kmeans, labels, inertia, sil_score, SUBMISSION_FILE_PATH)"
      ]
    }
  ],
  "metadata": {
    "kernelspec": {
      "display_name": "Python 3",
      "language": "python",
      "name": "python3"
    },
    "language_info": {
      "name": "python",
      "version": "3.10"
    }
  },
  "nbformat": 4,
  "nbformat_minor": 5
}