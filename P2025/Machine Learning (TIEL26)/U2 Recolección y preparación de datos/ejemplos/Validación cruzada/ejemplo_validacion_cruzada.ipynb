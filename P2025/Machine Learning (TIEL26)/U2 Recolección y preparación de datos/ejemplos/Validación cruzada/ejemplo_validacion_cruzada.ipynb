{
 "cells": [
  {
   "cell_type": "markdown",
   "metadata": {},
   "source": [
    "# Ejemplo de Validación Cruzada (Cross-Validation)\n",
    "\n",
    "La **validación cruzada** es una técnica para evaluar el rendimiento de un modelo de machine learning de una manera más robusta que con una simple división de datos en entrenamiento y prueba (train/test split).\n",
    "\n",
    "**¿Por qué es necesaria?**\n",
    "Una única división train/test puede dar resultados muy optimistas o pesimistas dependiendo de qué muestras caen en cada conjunto. La validación cruzada resuelve esto dividiendo los datos en múltiples `pliegues` (folds) y entrenando el modelo varias veces, usando un pliegue diferente para la prueba en cada iteración.\n",
    "\n",
    "**K-Fold Cross-Validation**\n",
    "Es la técnica más común. Los pasos son:\n",
    "1. Dividir el conjunto de datos en `k` pliegues (por ejemplo, k=5).\n",
    "2. En cada iteración, usar `k-1` pliegues para entrenar y el pliegue restante para probar.\n",
    "3. Repetir el proceso `k` veces.\n",
    "4. El rendimiento final es el promedio de los resultados de las `k` iteraciones."
   ]
  },
  {
   "cell_type": "code",
   "execution_count": null,
   "metadata": {},
   "outputs": [],
   "source": [
    "import pandas as pd\n",
    "from sklearn.model_selection import cross_val_score, train_test_split\n",
    "from sklearn.linear_model import LogisticRegression\n",
    "from sklearn.metrics import accuracy_score"
   ]
  },
  {
   "cell_type": "markdown",
   "metadata": {},
   "source": [
    "### 1. Cargar y Preparar los Datos\n",
    "Nuevamente, usamos el dataset del Titanic."
   ]
  },
  {
   "cell_type": "code",
   "execution_count": null,
   "metadata": {},
   "outputs": [],
   "source": [
    "df = pd.read_csv(\"../train.csv\")\n",
    "\n",
    "# Preprocesamiento simple\n",
    "features = [\"Pclass\", \"Sex\", \"Age\", \"SibSp\", \"Parch\"]\n",
    "target = \"Survived\"\n",
    "\n",
    "df[\"Sex\"] = df[\"Sex\"].map({\"male\": 0, \"female\": 1})\n",
    "df = df.dropna(subset=features)\n",
    "\n",
    "X = df[features]\n",
    "y = df[target]"
   ]
  },
  {
   "cell_type": "markdown",
   "metadata": {},
   "source": [
    "### 2. Comparación: Train/Test Split vs. Validación Cruzada\n",
    "\n",
    "Primero, evaluaremos un modelo con una única división para ver su resultado. Luego, usaremos validación cruzada para obtener una medida más fiable."
   ]
  },
  {
   "cell_type": "code",
   "execution_count": null,
   "metadata": {},
   "outputs": [],
   "source": [
    "# Modelo a evaluar\n",
    "model = LogisticRegression(random_state=42, max_iter=1000)\n",
    "\n",
    "# a) Evaluación con un único Train/Test Split\n",
    "X_train, X_test, y_train, y_test = train_test_split(X, y, test_size=0.3, random_state=42)\n",
    "model.fit(X_train, y_train)\n",
    "accuracy = accuracy_score(y_test, model.predict(X_test))\n",
    "print(f\"Precisión con un único Train/Test Split: {accuracy:.4f}\")\n",
    "\n",
    "# b) Evaluación con Validación Cruzada (k=5)\n",
    "# `cv=5` indica que se usarán 5 pliegues\n",
    "scores = cross_val_score(model, X, y, cv=5, scoring='accuracy')\n",
    "\n",
    "print(\"\nResultados de la Validación Cruzada (k=5):\")\n",
    "print(f\"  - Puntuaciones de cada pliegue: {scores}\")\n",
    "print(f\"  - Precisión Promedio: {scores.mean():.4f}\")\n",
    "print(f\"  - Desviación Estándar: {scores.std():.4f}\")"
   ]
  },
  {
   "cell_type": "markdown",
   "metadata": {},
   "source": [
    "### Conclusión\n",
    "\n",
    "- La precisión con un único split fue de **0.7907**. Este es solo un número y podría ser engañoso.\n",
    "\n",
    "- La validación cruzada nos da una visión mucho más completa:\n",
    "  - Vemos que el rendimiento del modelo varía en cada pliegue (desde ~76% hasta ~84%).\n",
    "  - La **precisión promedio (0.7955)** es una estimación más realista del rendimiento del modelo en datos nuevos.\n",
    "  - La **desviación estándar (0.0265)** nos indica qué tan consistentes son los resultados. Una desviación baja significa que el rendimiento del modelo es estable.\n",
    "\n",
    "La validación cruzada es la forma estándar y más confiable de evaluar un modelo antes de desplegarlo."
   ]
  }
 ],
 "metadata": {
  "kernelspec": {
   "display_name": "Python 3",
   "language": "python",
   "name": "python3"
  },
  "language_info": {
   "codemirror_mode": {
    "name": "ipython",
    "version": 3
   },
   "file_extension": ".py",
   "mimetype": "text/x-python",
   "name": "python",
   "nbconvert_exporter": "python",
   "pygments_lexer": "ipython3",
   "version": "3.13.0"
  }
 },
 "nbformat": 4,
 "nbformat_minor": 5
}
