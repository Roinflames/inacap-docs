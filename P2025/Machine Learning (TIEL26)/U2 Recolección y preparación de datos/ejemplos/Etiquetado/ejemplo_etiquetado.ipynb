{
 "cells": [
  {
   "cell_type": "markdown",
   "metadata": {},
   "source": [
    "# Ejemplo de Etiquetado de Datos (One-Hot Encoding)\n",
    "\n",
    "En machine learning, los modelos matemáticos necesitan que los datos estén en formato numérico. El **etiquetado de datos** es el proceso de convertir características no numéricas (categóricas) en una representación numérica.\n",
    "\n",
    "**One-Hot Encoding** es una técnica común para manejar variables categóricas nominales (donde no existe un orden inherente, como `Rojo`, `Verde`, `Azul`). Consiste en crear nuevas columnas binarias (con valores 0 o 1) para cada categoría presente en la columna original."
   ]
  },
  {
   "cell_type": "code",
   "execution_count": null,
   "metadata": {},
   "outputs": [],
   "source": [
    "import pandas as pd"
   ]
  },
  {
   "cell_type": "markdown",
   "metadata": {},
   "source": [
    "### 1. Cargar los datos\n",
    "Cargamos el dataset del Titanic, que contiene columnas categóricas como `Sex` y `Embarked`."
   ]
  },
  {
   "cell_type": "code",
   "execution_count": null,
   "metadata": {},
   "outputs": [],
   "source": [
    "df = pd.read_csv(\"../train.csv\")\n",
    "df_pequeno = df[\'Sex\', \'Embarked\', \'Pclass\'].dropna().head(10)"
   ]
  },
  {
   "cell_type": "markdown",
   "metadata": {},
   "source": [
    "### 2. Datos Originales\n",
    "Mostramos las primeras 10 filas con las columnas categóricas originales."
   ]
  },
  {
   "cell_type": "code",
   "execution_count": null,
   "metadata": {},
   "outputs": [],
   "source": [
    "print(\"Datos originales:\")\n",
    "display(df_pequeno)"
   ]
  },
  {
   "cell_type": "markdown",
   "metadata": {},
   "source": [
    "### 3. Aplicar One-Hot Encoding\n",
    "\n",
    "Usamos `pandas.get_dummies()` para aplicar One-Hot Encoding a las columnas `Sex` y `Embarked`. Esta función crea automáticamente una nueva columna para cada categoría y asigna `1` si la fila pertenece a esa categoría, o `0` en caso contrario."
   ]
  },
  {
   "cell_type": "code",
   "execution_count": null,
   "metadata": {},
   "outputs": [],
   "source": [
    "df_etiquetado = pd.get_dummies(df_pequeno, columns=['Sex', 'Embarked'], prefix=['Sexo', 'Embarque'])\n",
    "\n",
    "print(\"\nDatos con One-Hot Encoding:\")\n",
    "display(df_etiquetado)"
   ]
  },
  {
   "cell_type": "markdown",
   "metadata": {},
   "source": [
    "### Conclusión\n",
    "\n",
    "Como se puede observar, las columnas `Sex` y `Embarked` han sido reemplazadas por columnas numéricas:\n",
    "- `Sexo_female` y `Sexo_male` representan el género.\n",
    "- `Embarque_C`, `Embarque_Q`, `Embarque_S` representan el puerto de embarque.\n",
    "\n",
    "Este formato es ideal para alimentar a un modelo de machine learning."
   ]
  }
 ],
 "metadata": {
  "kernelspec": {
   "display_name": "Python 3",
   "language": "python",
   "name": "python3"
  },
  "language_info": {
   "codemirror_mode": {
    "name": "ipython",
    "version": 3
   },
   "file_extension": ".py",
   "mimetype": "text/x-python",
   "name": "python",
   "nbconvert_exporter": "python",
   "pygments_lexer": "ipython3",
   "version": "3.13.0"
  }
 },
 "nbformat": 4,
 "nbformat_minor": 5
}
