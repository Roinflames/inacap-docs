{
 "cells": [
  {
   "cell_type": "code",
   "execution_count": 4,
   "id": "c9c28cdf",
   "metadata": {},
   "outputs": [
    {
     "name": "stdout",
     "output_type": "stream",
     "text": [
      "Defaulting to user installation because normal site-packages is not writeable\n",
      "Requirement already satisfied: boto3 in c:\\users\\rodrigo\\appdata\\roaming\\python\\python312\\site-packages (1.40.20)\n",
      "Requirement already satisfied: botocore<1.41.0,>=1.40.20 in c:\\users\\rodrigo\\appdata\\roaming\\python\\python312\\site-packages (from boto3) (1.40.20)\n",
      "Requirement already satisfied: jmespath<2.0.0,>=0.7.1 in c:\\users\\rodrigo\\appdata\\roaming\\python\\python312\\site-packages (from boto3) (1.0.1)\n",
      "Requirement already satisfied: s3transfer<0.14.0,>=0.13.0 in c:\\users\\rodrigo\\appdata\\roaming\\python\\python312\\site-packages (from boto3) (0.13.1)\n",
      "Requirement already satisfied: python-dateutil<3.0.0,>=2.1 in c:\\users\\rodrigo\\appdata\\roaming\\python\\python312\\site-packages (from botocore<1.41.0,>=1.40.20->boto3) (2.9.0.post0)\n",
      "Requirement already satisfied: urllib3!=2.2.0,<3,>=1.25.4 in c:\\users\\rodrigo\\appdata\\roaming\\python\\python312\\site-packages (from botocore<1.41.0,>=1.40.20->boto3) (2.5.0)\n",
      "Requirement already satisfied: six>=1.5 in c:\\users\\rodrigo\\appdata\\roaming\\python\\python312\\site-packages (from python-dateutil<3.0.0,>=2.1->botocore<1.41.0,>=1.40.20->boto3) (1.17.0)\n"
     ]
    },
    {
     "name": "stderr",
     "output_type": "stream",
     "text": [
      "\n",
      "[notice] A new release of pip is available: 25.0 -> 25.2\n",
      "[notice] To update, run: C:\\Python312\\python.exe -m pip install --upgrade pip\n"
     ]
    }
   ],
   "source": [
    "!pip install boto3"
   ]
  },
  {
   "cell_type": "code",
   "execution_count": null,
   "id": "36dd19da",
   "metadata": {},
   "outputs": [],
   "source": [
    "! pip install --upgrade sagemaker"
   ]
  },
  {
   "cell_type": "code",
   "execution_count": 7,
   "id": "7218ef0c",
   "metadata": {},
   "outputs": [
    {
     "name": "stdout",
     "output_type": "stream",
     "text": [
      "Defaulting to user installation because normal site-packages is not writeable\n",
      "Requirement already satisfied: boto3 in c:\\users\\rodrigo\\appdata\\roaming\\python\\python312\\site-packages (1.40.20)\n",
      "Requirement already satisfied: botocore<1.41.0,>=1.40.20 in c:\\users\\rodrigo\\appdata\\roaming\\python\\python312\\site-packages (from boto3) (1.40.20)\n",
      "Requirement already satisfied: jmespath<2.0.0,>=0.7.1 in c:\\users\\rodrigo\\appdata\\roaming\\python\\python312\\site-packages (from boto3) (1.0.1)\n",
      "Requirement already satisfied: s3transfer<0.14.0,>=0.13.0 in c:\\users\\rodrigo\\appdata\\roaming\\python\\python312\\site-packages (from boto3) (0.13.1)\n",
      "Requirement already satisfied: python-dateutil<3.0.0,>=2.1 in c:\\users\\rodrigo\\appdata\\roaming\\python\\python312\\site-packages (from botocore<1.41.0,>=1.40.20->boto3) (2.9.0.post0)\n",
      "Requirement already satisfied: urllib3!=2.2.0,<3,>=1.25.4 in c:\\users\\rodrigo\\appdata\\roaming\\python\\python312\\site-packages (from botocore<1.41.0,>=1.40.20->boto3) (2.5.0)\n",
      "Requirement already satisfied: six>=1.5 in c:\\users\\rodrigo\\appdata\\roaming\\python\\python312\\site-packages (from python-dateutil<3.0.0,>=2.1->botocore<1.41.0,>=1.40.20->boto3) (1.17.0)\n"
     ]
    },
    {
     "name": "stderr",
     "output_type": "stream",
     "text": [
      "\n",
      "[notice] A new release of pip is available: 25.0 -> 25.2\n",
      "[notice] To update, run: C:\\Python312\\python.exe -m pip install --upgrade pip\n"
     ]
    },
    {
     "ename": "ModuleNotFoundError",
     "evalue": "No module named 'boto3'",
     "output_type": "error",
     "traceback": [
      "\u001b[31m---------------------------------------------------------------------------\u001b[39m",
      "\u001b[31mModuleNotFoundError\u001b[39m                       Traceback (most recent call last)",
      "\u001b[36mCell\u001b[39m\u001b[36m \u001b[39m\u001b[32mIn[7]\u001b[39m\u001b[32m, line 4\u001b[39m\n\u001b[32m      2\u001b[39m \u001b[38;5;66;03m### Permissions and environment variables\u001b[39;00m\n\u001b[32m      3\u001b[39m \u001b[38;5;28;01mimport\u001b[39;00m\u001b[38;5;250m \u001b[39m\u001b[34;01mre\u001b[39;00m\n\u001b[32m----> \u001b[39m\u001b[32m4\u001b[39m \u001b[38;5;28;01mimport\u001b[39;00m\u001b[38;5;250m \u001b[39m\u001b[34;01mboto3\u001b[39;00m\n\u001b[32m      5\u001b[39m \u001b[38;5;28;01mimport\u001b[39;00m\u001b[38;5;250m \u001b[39m\u001b[34;01msagemaker\u001b[39;00m\n\u001b[32m      6\u001b[39m \u001b[38;5;28;01mfrom\u001b[39;00m\u001b[38;5;250m \u001b[39m\u001b[34;01msagemaker\u001b[39;00m\u001b[38;5;250m \u001b[39m\u001b[38;5;28;01mimport\u001b[39;00m get_execution_role\n",
      "\u001b[31mModuleNotFoundError\u001b[39m: No module named 'boto3'"
     ]
    }
   ],
   "source": [
    "!pip install boto3\n",
    "### Permissions and environment variables\n",
    "import re\n",
    "import boto3\n",
    "import sagemaker\n",
    "from sagemaker import get_execution_role\n",
    "\n",
    "sess = sagemaker.Session()\n",
    "region = boto3.Session().region_name\n",
    "\n",
    "# S3 bucket donde ya están los datasets públicos de SageMaker\n",
    "downloaded_data_bucket = f\"sagemaker-example-files-prod-{region}\"\n",
    "downloaded_data_prefix = \"datasets/image/MNIST\"\n",
    "\n",
    "# Usa el bucket de SageMaker ya creado en tu cuenta (en vez de sess.default_bucket())\n",
    "bucket = f\"sagemaker-{region}-196289957086\"\n",
    "prefix = \"sagemaker/DEMO-linear-mnist\"\n",
    "\n",
    "# Define IAM role\n",
    "role = \"arn:aws:iam::196289957086:role/service-role/c174660a4519461l11376159t1w1-SageMakerExecutionRole-3lRQvl6oPPuN\""
   ]
  },
  {
   "cell_type": "code",
   "execution_count": null,
   "id": "c6d8f85d",
   "metadata": {},
   "outputs": [],
   "source": [
    "### Data ingestion\n",
    "\n",
    "import urllib.request\n",
    "import gzip\n",
    "import pickle\n",
    "\n",
    "url = \"http://deeplearning.net/data/mnist/mnist.pkl.gz\"\n",
    "urllib.request.urlretrieve(url, \"mnist.pkl.gz\")\n",
    "\n",
    "with gzip.open(\"mnist.pkl.gz\", \"rb\") as f:\n",
    "    train_set, valid_set, test_set = pickle.load(f, encoding=\"latin1\")"
   ]
  },
  {
   "cell_type": "code",
   "execution_count": null,
   "id": "b799ac34",
   "metadata": {},
   "outputs": [],
   "source": [
    "from sagemaker import get_execution_role\n",
    "from sagemaker.amazon.amazon_estimator import get_image_uri\n",
    "import sagemaker\n",
    "\n",
    "sagemaker_session = sagemaker.Session()\n",
    "\n",
    "# Cargar datos directamente a S3 (si tu laboratorio lo permite)\n",
    "from sagemaker.amazon.common import write_numpy_to_dense_tensor\n",
    "import numpy as np\n",
    "import io\n",
    "\n",
    "# Ejemplo con datos dummy para ilustrar\n",
    "train_data = np.random.rand(100, 784)\n",
    "train_labels = np.random.randint(10, size=(100,))\n",
    "buf = io.BytesIO()\n",
    "write_numpy_to_dense_tensor(buf, train_data.astype('float32'), train_labels.astype('float32'))\n",
    "buf.seek(0)\n",
    "\n",
    "bucket = f\"sagemaker-{region}-196289957086\"\n",
    "prefix = \"sagemaker/DEMO-linear-mnist\"\n",
    "key = f\"{prefix}/train_data\"\n",
    "boto3.client(\"s3\").upload_fileobj(buf, bucket, key)\n"
   ]
  },
  {
   "cell_type": "code",
   "execution_count": null,
   "id": "db7f24bf",
   "metadata": {},
   "outputs": [],
   "source": [
    "%matplotlib inline\n",
    "import matplotlib.pyplot as plt\n",
    "\n",
    "plt.rcParams[\"figure.figsize\"] = (2, 10)\n",
    "\n",
    "\n",
    "def show_digit(img, caption=\"\", subplot=None):\n",
    "    if subplot is None:\n",
    "        _, (subplot) = plt.subplots(1, 1)\n",
    "    imgr = img.reshape((28, 28))\n",
    "    subplot.axis(\"off\")\n",
    "    subplot.imshow(imgr, cmap=\"gray\")\n",
    "    plt.title(caption)\n",
    "\n",
    "\n",
    "show_digit(train_set[0][30], f\"This is a {train_set[1][30]}\")"
   ]
  },
  {
   "cell_type": "code",
   "execution_count": null,
   "id": "d42d2b11",
   "metadata": {},
   "outputs": [],
   "source": [
    "import io\n",
    "import numpy as np\n",
    "import sagemaker.amazon.common as smac\n",
    "\n",
    "train_set_vectors = np.array([t.tolist() for t in train_set[0]]).astype(\"float32\")\n",
    "train_set_labels = np.where(np.array([t.tolist() for t in train_set[1]]) == 0, 1, 0).astype(\n",
    "    \"float32\"\n",
    ")\n",
    "\n",
    "validation_set_vectors = np.array([t.tolist() for t in valid_set[0]]).astype(\"float32\")\n",
    "validation_set_labels = np.where(np.array([t.tolist() for t in valid_set[1]]) == 0, 1, 0).astype(\n",
    "    \"float32\"\n",
    ")\n",
    "\n",
    "train_set_buf = io.BytesIO()\n",
    "validation_set_buf = io.BytesIO()\n",
    "smac.write_numpy_to_dense_tensor(train_set_buf, train_set_vectors, train_set_labels)\n",
    "smac.write_numpy_to_dense_tensor(validation_set_buf, validation_set_vectors, validation_set_labels)\n",
    "train_set_buf.seek(0)\n",
    "validation_set_buf.seek(0)"
   ]
  },
  {
   "cell_type": "code",
   "execution_count": null,
   "id": "248f6f0c",
   "metadata": {},
   "outputs": [],
   "source": []
  }
 ],
 "metadata": {
  "kernelspec": {
   "display_name": "Python 3",
   "language": "python",
   "name": "python3"
  },
  "language_info": {
   "codemirror_mode": {
    "name": "ipython",
    "version": 3
   },
   "file_extension": ".py",
   "mimetype": "text/x-python",
   "name": "python",
   "nbconvert_exporter": "python",
   "pygments_lexer": "ipython3",
   "version": "3.13.0"
  }
 },
 "nbformat": 4,
 "nbformat_minor": 5
}
