{
 "cells": [
  {
   "cell_type": "markdown",
   "id": "2015002d",
   "metadata": {},
   "source": [
    "# Objectives\n",
    "After completing this lab, you will be able to:\n",
    "\n",
    "- Use Amazon SageMaker to create a hyperparameter training job\n",
    "\n",
    "- Tune an XGBoost model by using Amazon SageMaker\n",
    "\n",
    "- Test the tuned model by using performance metrics"
   ]
  },
  {
   "cell_type": "markdown",
   "id": "9b7caebb",
   "metadata": {},
   "source": [
    "## Información general\n",
    "Este laboratorio es una continuación de los laboratorios guiados del Módulo 3.\n",
    "\n",
    "En este laboratorio, creará un trabajo de ajuste de hiperparámetros para ajustar el modelo que creó anteriormente. A continuación, comparará las métricas de los dos modelos.\n",
    "\n",
    "## Presentación de la situación empresarial\n",
    "Trabaja para un proveedor de atención médica y desea mejorar la detección de anomalías en los pacientes de ortopedia.\n",
    "\n",
    "Se le asignó la tarea de resolver este problema con el uso de machine learning (ML). Tiene acceso a un conjunto de datos que contiene seis funciones biomecánicas y un objetivo de normal o anormal. Puede usar este conjunto de datos para entrenar un modelo de ML para predecir si un paciente tendrá una anomalía.\n",
    "\n",
    "## Acerca de este conjunto de datos\n",
    "Este conjunto de datos biomédicos fue creado por el Dr. Henrique da Mota durante un periodo de residencia médica en el Group of Applied Research in Orthopaedics (GARO) del Centre Médico-Chirurgical de Réadaptation des Massues, Lyon, Francia. Los datos se organizaron en dos tareas de clasificación diferentes pero que se relacionan.\n",
    "\n",
    "La primera tarea consiste en clasificar pacientes como pertenecientes a una de tres categorías:\n",
    "\n",
    "Normal (100 pacientes)\n",
    "Hernia de disco (60 pacientes)\n",
    "Espondilolistesis (150 pacientes)\n",
    "Para la segunda tarea, las categorías hernia de disco y espondilolistesis se fusionaron en una sola categoría que se denomina anormal. Por ende, la segunda tarea consiste en clasificar a los pacientes como pertenecientes a una de dos categorías: normal (100 pacientes) o anormal (210 pacientes).\n",
    "\n",
    "## Información de atributos\n",
    "Cada paciente está representado en el conjunto de datos por seis atributos biomecánicos que se derivan de la forma y la orientación de la pelvis y la columna lumbar (en este orden):\n",
    "\n",
    "Pelvic incidence (Incidencia pélvica)\n",
    "Pelvic tilt (Inclinación pélvica)\n",
    "Lumbar lordosis angle (Ángulo de lordosis lumbar)\n",
    "Sacral slope (Pendiente sacra)\n",
    "Pelvic radius (Radio pélvico)\n",
    "Grade of spondylolisthesis (Grado de espondilolistesis)\n",
    "Se usa la siguiente convención para las etiquetas de clase:\n",
    "\n",
    "DH (hernia de disco)\n",
    "SL (espondilolistesis)\n",
    "NO (normal)\n",
    "AB (anormal)\n",
    "Para obtener más información sobre este conjunto de datos, consulte la página web del conjunto de datos de la columna vertebral.\n",
    "\n",
    "## Atribuciones del conjunto de datos\n",
    "Este conjunto de datos se obtuvo de: Dua, D. y Graff, C. (2019). Repositorio de Machine Learning de UCI (http://archive.ics.uci.edu/ml). Irvine, CA: Universidad de California, School of Information and Computer Science."
   ]
  },
  {
   "cell_type": "markdown",
   "id": "27985fbc",
   "metadata": {},
   "source": [
    "# Configuración del laboratorio\n",
    "\n",
    "Debido a que esta solución se divide en varios laboratorios en el módulo, debe ejecutar las siguientes celdas para poder cargar los datos y entrenar el modelo que se implementará.\n",
    "\n",
    "**Nota:** La configuración puede tardar hasta 5 minutos en completarse."
   ]
  },
  {
   "cell_type": "markdown",
   "id": "ad6fb5c0",
   "metadata": {},
   "source": [
    "## Importación de los datos y entrenamiento, prueba y validación del modelo\n",
    "\n",
    "Ejecute las siguientes celdas para importar los datos, entrenar, probar y validar el modelo y dejarlo listo para utilizarse. \n",
    "\n",
    "**Nota:** Las siguientes celdas representan los pasos clave de los laboratorios anteriores.\n",
    "\n",
    "Para ajustar el modelo, debe estar listo y, luego, se puede afinar con hiperparámetros en el paso 2."
   ]
  },
  {
   "cell_type": "markdown",
   "id": "c79b42d0",
   "metadata": {},
   "source": [
    "# Desde tu terminal (PowerShell o CMD, no en el notebook) crea y activa el entorno con Python 3.12:\n",
    "    \n",
    "py -3.12 -m venv venv\n",
    "\n",
    ".\\venv\\Scripts\\activate   # PowerShell\n",
    "\n",
    "pip install requests pandas scipy boto3 sagemaker scikit-learn seaborn matplotlib ipykernel xgboost\n",
    "\n",
    "python -m ipykernel install --user --name=venv --display-name \"Python 3.12 (venv)\"\n"
   ]
  },
  {
   "cell_type": "code",
   "execution_count": null,
   "id": "477ebfcd",
   "metadata": {},
   "outputs": [
    {
     "name": "stdout",
     "output_type": "stream",
     "text": [
      "sagemaker.config INFO - Not applying SDK defaults from location: C:\\ProgramData\\sagemaker\\sagemaker\\config.yaml\n",
      "sagemaker.config INFO - Not applying SDK defaults from location: C:\\Users\\Rodrigo\\AppData\\Local\\sagemaker\\sagemaker\\config.yaml\n"
     ]
    }
   ],
   "source": [
    "import time\n",
    "start = time.time()\n",
    "import warnings, requests, zipfile, io\n",
    "warnings.simplefilter('ignore')\n",
    "import pandas as pd\n",
    "from scipy.io import arff\n",
    "\n",
    "import os\n",
    "import boto3\n",
    "import sagemaker\n",
    "from sagemaker.image_uris import retrieve\n",
    "from sklearn.model_selection import train_test_split\n",
    "\n",
    "from sklearn.metrics import roc_auc_score, roc_curve, auc, confusion_matrix\n",
    "import seaborn as sns\n",
    "import matplotlib.pyplot as plt\n",
    "\n",
    "#\n",
    "import xgboost as xgb\n"
   ]
  },
  {
   "cell_type": "markdown",
   "id": "e2ce077a",
   "metadata": {},
   "source": [
    "**Nota:** La siguiente celda tarda aproximadamente **10** minutos en completarse. Observe el código y cómo se procesa, esto le permite entender mejor lo que sucede en segundo plano. Tenga presente que esta celda completa todos los pasos que hizo en laboratorios anteriores de este módulo, entre ellos:\n",
    " - Importación de los datos\n",
    " - Carga de los datos en un DataFrame\n",
    " - División de los datos en conjuntos de datos de entrenamiento, prueba y validación\n",
    " - Carga de los conjuntos de datos divididos en S3\n",
    " - Entrenamiento, prueba y validación del modelo con los conjuntos de datos"
   ]
  },
  {
   "cell_type": "markdown",
   "id": "c0f52ec8",
   "metadata": {},
   "source": [
    "pip install awscli\n",
    "aws configure\n",
    "C:\\Users\\Rodrigo\\.aws\n",
    "\n",
    "[default]\n",
    "aws_access_key_id=aws_access_key_id\n",
    "aws_secret_access_key=aws_secret_access_key\n",
    "aws_session_token=aws_session_token"
   ]
  },
  {
   "cell_type": "code",
   "execution_count": 3,
   "id": "e3cdfb73",
   "metadata": {},
   "outputs": [],
   "source": [
    "bucket='c174660a4519473l11469662t1w975050097455-labbucket-shf2otxd36wy'"
   ]
  },
  {
   "cell_type": "code",
   "execution_count": 7,
   "id": "f7790a3a",
   "metadata": {},
   "outputs": [
    {
     "name": "stdout",
     "output_type": "stream",
     "text": [
      "Sensitivity or TPR: 85.71%\n",
      "Specificity or TNR: 70.00%\n",
      "Precision: 85.71%\n",
      "Negative Predictive Value: 70.00%\n",
      "False Positive Rate: 30.00%\n",
      "False Negative Rate: 14.29%\n",
      "False Discovery Rate: 14.29%\n",
      "Accuracy: 80.65%\n",
      "Validation AUC: 0.8904761904761905\n"
     ]
    },
    {
     "name": "stderr",
     "output_type": "stream",
     "text": [
      "<timed exec>:89: FutureWarning: Downcasting behavior in `replace` is deprecated and will be removed in a future version. To retain the old behavior, explicitly call `result.infer_objects(copy=False)`. To opt-in to the future behavior, set `pd.set_option('future.no_silent_downcasting', True)`\n",
      "c:\\Projects\\inacap\\venv\\Lib\\site-packages\\xgboost\\training.py:183: UserWarning: [13:22:12] WARNING: C:\\actions-runner\\_work\\xgboost\\xgboost\\src\\learner.cc:738: \n",
      "Parameters: { \"silent\" } are not used.\n",
      "\n",
      "  bst.update(dtrain, iteration=i, fobj=obj)\n"
     ]
    },
    {
     "data": {
      "image/png": "[encoded data removed]",
      "text/plain": [
       "<Figure size 640x480 with 2 Axes>"
      ]
     },
     "metadata": {},
     "output_type": "display_data"
    },
    {
     "data": {
      "image/png": "[encoded data removed]",
      "text/plain": [
       "<Figure size 640x480 with 1 Axes>"
      ]
     },
     "metadata": {},
     "output_type": "display_data"
    },
    {
     "name": "stdout",
     "output_type": "stream",
     "text": [
      "CPU times: total: 578 ms\n",
      "Wall time: 851 ms\n"
     ]
    }
   ],
   "source": [
    "%%time\n",
    "import pandas as pd\n",
    "import numpy as np\n",
    "import requests, io, zipfile\n",
    "from scipy.io import arff\n",
    "from sklearn.model_selection import train_test_split\n",
    "from sklearn.metrics import confusion_matrix, roc_auc_score, roc_curve, auc\n",
    "import matplotlib.pyplot as plt\n",
    "import seaborn as sns\n",
    "import xgboost as xgb\n",
    "\n",
    "# =========================\n",
    "# 🔹 Funciones de evaluación\n",
    "# =========================\n",
    "def plot_roc(test_labels, target_predicted_prob):\n",
    "    # convertir a binario para métricas de confusion\n",
    "    target_predicted_binary = (target_predicted_prob >= 0.5).astype(int)\n",
    "    \n",
    "    TN, FP, FN, TP = confusion_matrix(test_labels, target_predicted_binary).ravel()\n",
    "    Sensitivity  = TP / (TP + FN) * 100\n",
    "    Specificity  = TN / (TN + FP) * 100\n",
    "    Precision = TP / (TP + FP) * 100\n",
    "    NPV = TN / (TN + FN) * 100\n",
    "    FPR = FP / (FP + TN) * 100\n",
    "    FNR = FN / (TP + FN) * 100\n",
    "    FDR = FP / (TP + FP) * 100\n",
    "    ACC = (TP + TN) / (TP + FP + FN + TN) * 100\n",
    "\n",
    "    print(f\"Sensitivity or TPR: {Sensitivity:.2f}%\")    \n",
    "    print(f\"Specificity or TNR: {Specificity:.2f}%\") \n",
    "    print(f\"Precision: {Precision:.2f}%\")   \n",
    "    print(f\"Negative Predictive Value: {NPV:.2f}%\")  \n",
    "    print(f\"False Positive Rate: {FPR:.2f}%\") \n",
    "    print(f\"False Negative Rate: {FNR:.2f}%\")  \n",
    "    print(f\"False Discovery Rate: {FDR:.2f}%\")\n",
    "    print(f\"Accuracy: {ACC:.2f}%\") \n",
    "\n",
    "    print(\"Validation AUC:\", roc_auc_score(test_labels, target_predicted_prob))\n",
    "\n",
    "    fpr, tpr, thresholds = roc_curve(test_labels, target_predicted_prob)\n",
    "    roc_auc = auc(fpr, tpr)\n",
    "\n",
    "    plt.figure()\n",
    "    plt.plot(fpr, tpr, label='ROC curve (area = %0.2f)' % (roc_auc))\n",
    "    plt.plot([0, 1], [0, 1], 'k--')\n",
    "    plt.xlim([0.0, 1.0])\n",
    "    plt.ylim([0.0, 1.05])\n",
    "    plt.xlabel('False Positive Rate')\n",
    "    plt.ylabel('True Positive Rate')\n",
    "    plt.title('Receiver operating characteristic')\n",
    "    plt.legend(loc=\"lower right\")\n",
    "\n",
    "    ax2 = plt.gca().twinx()\n",
    "    ax2.plot(fpr, thresholds, markeredgecolor='r', linestyle='dashed', color='r')\n",
    "    ax2.set_ylabel('Threshold', color='r')\n",
    "    delta = 0.01  # 1%\n",
    "    # 1️⃣ Filtrar los valores NaN o Inf\n",
    "    thresholds = thresholds[np.isfinite(thresholds)]\n",
    "    ax2.set_ylim([thresholds[-1] - delta, thresholds[0] + delta])\n",
    "    ax2.set_xlim([fpr[0] - delta, fpr[-1] + delta])\n",
    "\n",
    "    plt.show()\n",
    "\n",
    "\n",
    "def plot_confusion_matrix(test_labels, target_predicted):\n",
    "    matrix = confusion_matrix(test_labels, target_predicted)\n",
    "    df_confusion = pd.DataFrame(matrix)\n",
    "    colormap = sns.color_palette(\"BrBG\", 10)\n",
    "    sns.heatmap(df_confusion, annot=True, fmt='d', cbar=None, cmap=colormap)\n",
    "    plt.title(\"Confusion Matrix\")\n",
    "    plt.tight_layout()\n",
    "    plt.ylabel(\"True Class\")\n",
    "    plt.xlabel(\"Predicted Class\")\n",
    "    plt.show()\n",
    "\n",
    "# =========================\n",
    "# 🔹 Cargar dataset\n",
    "# =========================\n",
    "f_zip = 'http://archive.ics.uci.edu/ml/machine-learning-databases/00212/vertebral_column_data.zip'\n",
    "r = requests.get(f_zip, stream=True)\n",
    "Vertebral_zip = zipfile.ZipFile(io.BytesIO(r.content))\n",
    "Vertebral_zip.extractall()\n",
    "\n",
    "data = arff.loadarff('column_2C_weka.arff')\n",
    "df = pd.DataFrame(data[0])\n",
    "\n",
    "# Convertir clase a 0/1\n",
    "class_mapper = {b'Abnormal':1, b'Normal':0}\n",
    "# df['class'] = df['class'].replace(class_mapper)\n",
    "df['class'] = df['class'].replace(class_mapper).infer_objects()\n",
    "\n",
    "# Reordenar columnas (clase primero)\n",
    "cols = df.columns.tolist()\n",
    "cols = cols[-1:] + cols[:-1]\n",
    "df = df[cols]\n",
    "\n",
    "# =========================\n",
    "# 🔹 Split de datos\n",
    "# =========================\n",
    "train, test_and_validate = train_test_split(df, test_size=0.2, random_state=42, stratify=df['class'])\n",
    "test, validate = train_test_split(test_and_validate, test_size=0.5, random_state=42, stratify=test_and_validate['class'])\n",
    "\n",
    "X_train = train.iloc[:, 1:]\n",
    "y_train = train.iloc[:, 0]\n",
    "X_test = test.iloc[:, 1:]\n",
    "y_test = test.iloc[:, 0]\n",
    "\n",
    "# =========================\n",
    "# 🔹 Entrenar XGBoost local\n",
    "# =========================\n",
    "dtrain = xgb.DMatrix(X_train, label=y_train)\n",
    "dtest = xgb.DMatrix(X_test, label=y_test)\n",
    "\n",
    "params = {\n",
    "    'objective': 'binary:logistic',\n",
    "    'eval_metric': 'auc',\n",
    "    'silent': 1\n",
    "}\n",
    "\n",
    "bst = xgb.train(params, dtrain, num_boost_round=42)\n",
    "\n",
    "# Predicciones\n",
    "# y_pred_prob = bst.predict(dtest)\n",
    "y_pred_prob = np.clip(bst.predict(dtest), 1e-6, 1 - 1e-6)\n",
    "y_pred = (y_pred_prob > 0.5).astype(int)\n",
    "\n",
    "# =========================\n",
    "# 🔹 Evaluar modelo\n",
    "# =========================\n",
    "plot_roc(y_test, y_pred_prob)\n",
    "plot_confusion_matrix(y_test, y_pred)\n"
   ]
  }
 ],
 "metadata": {
  "kernelspec": {
   "display_name": "venv",
   "language": "python",
   "name": "python3"
  },
  "language_info": {
   "codemirror_mode": {
    "name": "ipython",
    "version": 3
   },
   "file_extension": ".py",
   "mimetype": "text/x-python",
   "name": "python",
   "nbconvert_exporter": "python",
   "pygments_lexer": "ipython3",
   "version": "3.12.6"
  }
 },
 "nbformat": 4,
 "nbformat_minor": 5
}
