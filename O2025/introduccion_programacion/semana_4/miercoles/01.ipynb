{
 "cells": [
  {
   "cell_type": "markdown",
   "metadata": {},
   "source": [
    "Sentencias básicas de Python en la resolución de problemas"
   ]
  },
  {
   "cell_type": "code",
   "execution_count": null,
   "metadata": {},
   "outputs": [],
   "source": [
    "¿Por qué utilizar las estructuras de decisión y bucles?\n",
    "\n",
    "- Control de Flujo\n",
    "- Repetición Controlada"
   ]
  },
  {
   "cell_type": "markdown",
   "metadata": {},
   "source": [
    "Beneficios de las estructuras de decisión y bucles\n",
    "\n",
    "- Optimización del código\n",
    "- Manejo de diversidad de datos\n",
    "- Solución dinámica de problemas\n",
    "- Reducción de código repetitivo\n",
    "- Claridad y legibilidad del código\n",
    "- Aumento de la eficiencia del desarrollo\n",
    "- Control del flujo de ejecución"
   ]
  },
  {
   "cell_type": "markdown",
   "metadata": {},
   "source": [
    "Sistema de Autenticación"
   ]
  },
  {
   "cell_type": "code",
   "execution_count": 3,
   "metadata": {},
   "outputs": [
    {
     "name": "stdout",
     "output_type": "stream",
     "text": [
      "Credenciales incorrectas. Inténtalo de nuevo.\n"
     ]
    }
   ],
   "source": [
    "usuario_ingresado = input(\"Ingrese su nombre de usuario: \")\n",
    "contraseña_ingresada = input(\"Ingrese su contraseña: \")\n",
    "\n",
    "ususario_correcto = \"usuario123\"\n",
    "contraseña_correcta = \"contrasena_secreta\"\n",
    "\n",
    "if usuario_ingresado == ususario_correcto and contraseña_ingresada == contraseña_correcta:\n",
    "    print(\"¡Inicio de sesión exitoso! Bienvenido.\")\n",
    "else:   \n",
    "    print(\"Credenciales incorrectas. Inténtalo de nuevo.\")"
   ]
  },
  {
   "cell_type": "markdown",
   "metadata": {},
   "source": [
    "Sistema Evaluación de Estudiantes"
   ]
  },
  {
   "cell_type": "code",
   "execution_count": null,
   "metadata": {},
   "outputs": [],
   "source": [
    "nota = int(input(\"Ingrese la nota obtenida por el estudiante: \"))\n",
    "\n",
    "if nota >= 6.0:\n",
    "    print(\"Calificación 7.0 - Sobresaliente\")\n",
    "elif nota >= 5.0:\n",
    "    print(\"Calificación 6.0 - Distinguido\")\n",
    "elif nota >= 4.0:\n",
    "    print(\"Calificación 5.0 - Bueno\")\n",
    "elif nota >= 3.0:\n",
    "    print(\"Calificación 4.0 - Suficiente\")\n",
    "elif nota >= 2.0:\n",
    "    print(\"Calificación 3.0 - Insuficiente\")\n",
    "elif nota >= 1.0:\n",
    "    print(\"Calificación 2.0 - Muy insuficiente\")\n",
    "else:\n",
    "    print(\"Calificación 1.0 - Deficiente\")"
   ]
  },
  {
   "cell_type": "code",
   "execution_count": null,
   "metadata": {},
   "outputs": [],
   "source": [
    "Suma de números pares"
   ]
  },
  {
   "cell_type": "code",
   "execution_count": null,
   "metadata": {},
   "outputs": [],
   "source": [
    "suma = 2 + 4 + 6 + 8 + 10 + 12 + 14 + 16 + 18 + 20 + 22 + 24 + 26 + 28 + 30 + 32 + 34 + 36 + 38 + 40 + 42 + 44 + 46 + 48 + 50 + 52 + 54 + 56 + 58 + 60 + 62 + 64 + 66 + 68 + 70 + 72 + 74 + 76 + 78 + 80 + 82 + 84 + 86 + 88 + 90 + 92 + 94 + 96 + 98 + 100 + 102 + 104 + 106 + 108 + 110 + 112 + 114 + 116 + 118 + 120 + 122 + 124 + 126 + 128 + 130 + 132 + 134 + 136 + 138 + 140 + 142 + 144 + 146 + 148 + 150 + 152 + 154 + 156 + 158 + 160 + 162 + 164 + 166 + 168 + 170 + 172 + 174 + 176 + 178 + 180 + 182 + 184 + 186 + 188 + 190 + 192 + 194 + 196 + 198 + 200\n",
    "print(suma)\n",
    "\n",
    "suma = 0\n",
    "\n",
    "for numero_par in range(2, 201, 2):\n",
    "    suma += numero_par\n",
    "    \n",
    "print(suma)"
   ]
  },
  {
   "cell_type": "markdown",
   "metadata": {},
   "source": [
    "Búsqueda en una Lista"
   ]
  },
  {
   "cell_type": "code",
   "execution_count": 10,
   "metadata": {},
   "outputs": [
    {
     "name": "stdout",
     "output_type": "stream",
     "text": [
      "True\n",
      "False\n",
      "False\n",
      "False\n",
      "False\n",
      "-----------------------------------------------\n",
      "True\n"
     ]
    }
   ],
   "source": [
    "nombre_a_buscar = input(\"Ingrese un nombre: \")\n",
    "lista_nombres = [\"Juan\", \"María\", \"Pedro\", \"Ana\", \"Luis\"]\n",
    "\n",
    "nombre1_presente = nombre_a_buscar == lista_nombres[0]\n",
    "nombre2_presente = nombre_a_buscar == lista_nombres[1]  \n",
    "nombre3_presente = nombre_a_buscar == lista_nombres[2]  \n",
    "nombre4_presente = nombre_a_buscar == lista_nombres[3]  \n",
    "nombre5_presente = nombre_a_buscar == lista_nombres[4]  \n",
    "\n",
    "nombre_presente = False\n",
    "\n",
    "for nombre in lista_nombres:\n",
    "    if nombre == nombre_a_buscar:\n",
    "        nombre_presente = True\n",
    "        break\n",
    "    \n",
    "print(nombre1_presente)\n",
    "print(nombre2_presente)\n",
    "print(nombre3_presente)\n",
    "print(nombre4_presente)\n",
    "print(nombre5_presente)\n",
    "print(\"-----------------------------------------------\")\n",
    "print(nombre_presente)"
   ]
  }
 ],
 "metadata": {
  "kernelspec": {
   "display_name": "Python 3",
   "language": "python",
   "name": "python3"
  },
  "language_info": {
   "codemirror_mode": {
    "name": "ipython",
    "version": 3
   },
   "file_extension": ".py",
   "mimetype": "text/x-python",
   "name": "python",
   "nbconvert_exporter": "python",
   "pygments_lexer": "ipython3",
   "version": "3.13.0"
  }
 },
 "nbformat": 4,
 "nbformat_minor": 2
}
